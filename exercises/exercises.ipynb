{
 "cells": [
  {
   "cell_type": "markdown",
   "metadata": {},
   "source": [
    "# ¡Aprende SQL!\n",
    "\n",
    "Este Notebook te permite practicar SQL. Ejecutaremos las consultas directamente desde Python contra la base de datos Postgres configurada en Docker. Para ello son necesarias una serie de configuraciones previas. Si lo deseas puedes proceder directamente a los ejercicios."
   ]
  },
  {
   "cell_type": "code",
   "execution_count": 47,
   "metadata": {},
   "outputs": [],
   "source": [
    "# Importaciones de librerías \n",
    "import psycopg2\n",
    "import pandas as pd"
   ]
  },
  {
   "cell_type": "code",
   "execution_count": 48,
   "metadata": {},
   "outputs": [],
   "source": [
    "# Configurar la conexión a la base de datos\n",
    "connection = psycopg2.connect(\n",
    "    host=\"localhost\",\n",
    "    port=\"8090\",\n",
    "    database=\"sales\",\n",
    "    user=\"example\",\n",
    "    password=\"example\"\n",
    ")"
   ]
  },
  {
   "cell_type": "code",
   "execution_count": 49,
   "metadata": {},
   "outputs": [],
   "source": [
    "# Función para ejecutar consultas SQL\n",
    "def execute_query(query):\n",
    "    try:\n",
    "        cursor = connection.cursor()\n",
    "        \n",
    "        # Ejecutar la consulta\n",
    "        cursor.execute(query)\n",
    "        \n",
    "        # Comprobar si la consulta devuelve resultados (SELECT)\n",
    "        if cursor.description is not None:  # `cursor.description` existe solo en consultas SELECT\n",
    "            columns = [desc[0] for desc in cursor.description]\n",
    "            data = cursor.fetchall()\n",
    "            cursor.close()\n",
    "            return pd.DataFrame(data, columns=columns)\n",
    "        \n",
    "        # Si no es una consulta SELECT, confirmar cambios\n",
    "        else:\n",
    "            connection.commit()\n",
    "            cursor.close()\n",
    "            return \"Consulta ejecutada correctamente.\"\n",
    "    \n",
    "    except Exception as e:\n",
    "        # En caso de error, deshacer cualquier cambio\n",
    "        connection.rollback()\n",
    "        return f\"Error: {e}\""
   ]
  },
  {
   "cell_type": "markdown",
   "metadata": {},
   "source": [
    "### Ejercicios DQL"
   ]
  },
  {
   "cell_type": "markdown",
   "metadata": {},
   "source": [
    "Antes de realizar los ejercicios vamos a presentar el esquema de la base de datos sobre ventas.\n",
    "\n",
    "![Mapa conceptual de la BD](../images/database-scheme.png)"
   ]
  },
  {
   "cell_type": "markdown",
   "metadata": {},
   "source": [
    "Ahora realizarás una serie de ejercicios diseñados para practicar consultas (queries) relacionadas con el contenido de la base de datos, enfocándote en DQL (SELECT)."
   ]
  },
  {
   "cell_type": "markdown",
   "metadata": {},
   "source": [
    "**Ejercicio 1:** Visualizar el contenido de las tablas salesman, customer y order_item."
   ]
  },
  {
   "cell_type": "code",
   "execution_count": 50,
   "metadata": {},
   "outputs": [],
   "source": [
    "# Respuestas a las consultas\n",
    "query1 = \"SELECT * FROM salesman;\"\n",
    "query2 = \"SELECT * FROM customer;\"\n",
    "query3 = \"SELECT * FROM order_item;\""
   ]
  },
  {
   "cell_type": "code",
   "execution_count": 51,
   "metadata": {},
   "outputs": [
    {
     "name": "stdout",
     "output_type": "stream",
     "text": [
      "   salesman_id        name      city commission\n",
      "0         5001  James Hooq  New York       0.15\n",
      "1         5002  Nail Knite     Paris       0.13\n",
      "2         5005    Pit Alex    London       0.11\n",
      "3         5006     Mc Lyon     Paris       0.14\n",
      "4         5003  Lauson Hen      None       0.12\n",
      "5         5007   Paul Adam      Rome       0.13\n",
      "   customer_id            name        city  grade  salesman_id\n",
      "0         3002    Nick Rimando    New York  100.0       5001.0\n",
      "1         3005     Graham Zusi  California  200.0       5002.0\n",
      "2         3001      Brad Guzan      London    NaN          NaN\n",
      "3         3004  Fabian Johnson       Paris  300.0       5006.0\n",
      "4         3007      Brad Davis    San Jose  200.0       5003.0\n",
      "5         3008    Julian Green      London  300.0       5002.0\n",
      "6         3009   Geoff Cameron      Berlin  100.0       5002.0\n",
      "7         3003   Jozy Altidore      Moncow  200.0       5007.0\n",
      "    order_id  customer_id  salesman_id purch_amt  order_date\n",
      "0      70001         3005       5002.0    150.50  2016-10-05\n",
      "1      70009         3001          NaN    270.65  2016-09-10\n",
      "2      70002         3002       5001.0     65.26  2016-10-05\n",
      "3      70004         3009          NaN    110.50  2016-08-17\n",
      "4      70007         3005       5002.0    948.50  2016-09-10\n",
      "5      70005         3007       5001.0   2400.60  2016-07-27\n",
      "6      70008         3004       5001.0   5760.00  2016-09-10\n",
      "7      70010         3004       5006.0   1983.43  2016-10-10\n",
      "8      70003         3009       5003.0   2480.40  2016-10-10\n",
      "9      70012         3008       5002.0    250.45  2016-06-27\n",
      "10     70011         3003       5007.0     75.29  2016-08-17\n"
     ]
    }
   ],
   "source": [
    "print(execute_query(query1))\n",
    "print(execute_query(query2))\n",
    "print(execute_query(query3))"
   ]
  },
  {
   "cell_type": "markdown",
   "metadata": {},
   "source": [
    "**Ejercicio 2:** Muestra el número de orden, la fecha de la orden y el monto de compra de las órdenes que serán entregadas por el vendedor con ID 5001."
   ]
  },
  {
   "cell_type": "code",
   "execution_count": 52,
   "metadata": {},
   "outputs": [
    {
     "name": "stdout",
     "output_type": "stream",
     "text": [
      "   order_id  order_date purch_amt\n",
      "0     70002  2016-10-05     65.26\n",
      "1     70005  2016-07-27   2400.60\n",
      "2     70008  2016-09-10   5760.00\n"
     ]
    }
   ],
   "source": [
    "query = '''\n",
    "SELECT order_id, order_date, purch_amt FROM order_item \n",
    "WHERE salesman_id = 5001;\n",
    "'''\n",
    "print(execute_query(query))"
   ]
  },
  {
   "cell_type": "markdown",
   "metadata": {},
   "source": [
    "**Ejercicio 3:** Recupera el ID del vendedor de todos los vendedores de la tabla de órdenes sin repeticiones."
   ]
  },
  {
   "cell_type": "code",
   "execution_count": 53,
   "metadata": {},
   "outputs": [
    {
     "name": "stdout",
     "output_type": "stream",
     "text": [
      "    order_id\n",
      "0      70003\n",
      "1      70008\n",
      "2      70005\n",
      "3      70011\n",
      "4      70004\n",
      "5      70010\n",
      "6      70001\n",
      "7      70002\n",
      "8      70007\n",
      "9      70012\n",
      "10     70009\n"
     ]
    }
   ],
   "source": [
    "query = '''\n",
    "SELECT DISTINCT order_id from order_item\n",
    "'''\n",
    "print(execute_query(query))"
   ]
  },
  {
   "cell_type": "markdown",
   "metadata": {},
   "source": [
    "**Ejercicio 4:** Muestra todos los clientes que pertenecen a Nueva York o no tienen una calificación superior a 100."
   ]
  },
  {
   "cell_type": "code",
   "execution_count": 54,
   "metadata": {},
   "outputs": [
    {
     "name": "stdout",
     "output_type": "stream",
     "text": [
      "   customer_id            name        city  grade  salesman_id\n",
      "0         3002    Nick Rimando    New York    100         5001\n",
      "1         3005     Graham Zusi  California    200         5002\n",
      "2         3004  Fabian Johnson       Paris    300         5006\n",
      "3         3007      Brad Davis    San Jose    200         5003\n",
      "4         3008    Julian Green      London    300         5002\n",
      "5         3003   Jozy Altidore      Moncow    200         5007\n"
     ]
    }
   ],
   "source": [
    "query = '''\n",
    "SELECT * FROM customer\n",
    "WHERE city = 'New York' OR grade > 100;\n",
    "'''\n",
    "print(execute_query(query))"
   ]
  },
  {
   "cell_type": "markdown",
   "metadata": {},
   "source": [
    "**Ejercicio 5:** Encuentra a los vendedores cuyos nombres comienzan con la letra \"N\", tienen \"l\" como cuarto carácter y el resto puede ser cualquier cosa."
   ]
  },
  {
   "cell_type": "code",
   "execution_count": 55,
   "metadata": {},
   "outputs": [
    {
     "name": "stdout",
     "output_type": "stream",
     "text": [
      "   salesman_id        name   city commission\n",
      "0         5002  Nail Knite  Paris       0.13\n"
     ]
    }
   ],
   "source": [
    "query = ''' \n",
    "SELECT * FROM salesman\n",
    "WHERE name LIKE 'N__l%'\n",
    "'''\n",
    "\n",
    "print(execute_query(query))"
   ]
  },
  {
   "cell_type": "markdown",
   "metadata": {},
   "source": [
    "**Ejercicio 6:** Encuentra al cliente que no tiene ninguna calificación (excepto NULL)."
   ]
  },
  {
   "cell_type": "code",
   "execution_count": 56,
   "metadata": {},
   "outputs": [
    {
     "name": "stdout",
     "output_type": "stream",
     "text": [
      "   customer_id        name    city grade salesman_id\n",
      "0         3001  Brad Guzan  London  None        None\n"
     ]
    }
   ],
   "source": [
    "query = ''' \n",
    "SELECT * FROM CUSTOMER \n",
    "WHERE grade IS NULL;\n",
    "'''\n",
    "print(execute_query(query))"
   ]
  },
  {
   "cell_type": "markdown",
   "metadata": {},
   "source": [
    "**Ejercicio 7:** Encuentra el número de vendedores actualmente registrados para todos sus clientes."
   ]
  },
  {
   "cell_type": "code",
   "execution_count": 57,
   "metadata": {},
   "outputs": [
    {
     "name": "stdout",
     "output_type": "stream",
     "text": [
      "             name  num_salesman\n",
      "0    Julian Green             1\n",
      "1   Jozy Altidore             1\n",
      "2      Brad Guzan             0\n",
      "3     Graham Zusi             1\n",
      "4   Geoff Cameron             1\n",
      "5      Brad Davis             1\n",
      "6  Fabian Johnson             1\n",
      "7    Nick Rimando             1\n"
     ]
    }
   ],
   "source": [
    "query = ''' \n",
    "SELECT name, COUNT(salesman_id) AS num_salesman \n",
    "FROM customer\n",
    "GROUP BY customer_id;\n",
    "'''\n",
    "print(execute_query(query))"
   ]
  },
  {
   "cell_type": "markdown",
   "metadata": {},
   "source": [
    "**Ejercicio 8:** Encuentra el nombre y la ciudad de aquellos clientes y vendedores que viven en la misma ciudad."
   ]
  },
  {
   "cell_type": "code",
   "execution_count": 58,
   "metadata": {},
   "outputs": [
    {
     "name": "stdout",
     "output_type": "stream",
     "text": [
      "   customer_id            name        city  grade  salesman_id\n",
      "0         3002    Nick Rimando    New York  100.0       5001.0\n",
      "1         3005     Graham Zusi  California  200.0       5002.0\n",
      "2         3001      Brad Guzan      London    NaN          NaN\n",
      "3         3004  Fabian Johnson       Paris  300.0       5006.0\n",
      "4         3007      Brad Davis    San Jose  200.0       5003.0\n",
      "5         3008    Julian Green      London  300.0       5002.0\n",
      "6         3009   Geoff Cameron      Berlin  100.0       5002.0\n",
      "7         3003   Jozy Altidore      Moncow  200.0       5007.0\n",
      "   salesman_id        name      city commission\n",
      "0         5001  James Hooq  New York       0.15\n",
      "1         5002  Nail Knite     Paris       0.13\n",
      "2         5005    Pit Alex    London       0.11\n",
      "3         5006     Mc Lyon     Paris       0.14\n",
      "4         5003  Lauson Hen      None       0.12\n",
      "5         5007   Paul Adam      Rome       0.13\n"
     ]
    }
   ],
   "source": [
    "# Repasemos las tablas\n",
    "query = '''\n",
    "SELECT * FROM customer;\n",
    "'''\n",
    "print(execute_query(query))\n",
    "\n",
    "query = '''\n",
    "SELECT * FROM salesman;\n",
    "'''\n",
    "print(execute_query(query))"
   ]
  },
  {
   "cell_type": "code",
   "execution_count": 59,
   "metadata": {},
   "outputs": [
    {
     "name": "stdout",
     "output_type": "stream",
     "text": [
      "    customer_name      city salesman_name\n",
      "0    Nick Rimando  New York    James Hooq\n",
      "1  Fabian Johnson     Paris       Mc Lyon\n"
     ]
    }
   ],
   "source": [
    "# Posibilidad 1: entendiendo que queremos sacar los pares clientes y sus vendedores afincados en la misma ciudad\n",
    "query = ''' \n",
    "SELECT customer.name AS customer_name, customer.city, salesman.name AS salesman_name\n",
    "FROM customer JOIN salesman ON customer.salesman_id = salesman.salesman_id\n",
    "WHERE customer.city = salesman.city;\n",
    "'''\n",
    "print(execute_query(query))"
   ]
  },
  {
   "cell_type": "code",
   "execution_count": 60,
   "metadata": {},
   "outputs": [
    {
     "name": "stdout",
     "output_type": "stream",
     "text": [
      "    customer_name salesman_name      city\n",
      "0    Nick Rimando    James Hooq  New York\n",
      "1      Brad Guzan      Pit Alex    London\n",
      "2  Fabian Johnson       Mc Lyon     Paris\n",
      "3  Fabian Johnson    Nail Knite     Paris\n",
      "4    Julian Green      Pit Alex    London\n"
     ]
    }
   ],
   "source": [
    "# Posibilidad 2: entendiendo que queremos sacar clientes y vendedores de las mismas ciudades (independendimiente de si están asignados o no)\n",
    "query = '''\n",
    "SELECT customer.name AS customer_name, salesman.name AS salesman_name, customer.city\n",
    "FROM customer JOIN salesman ON customer.city = salesman.city;\n",
    "'''\n",
    "print(execute_query(query))"
   ]
  },
  {
   "cell_type": "markdown",
   "metadata": {},
   "source": [
    "**Ejercicio 9:** Muestra todas las órdenes realizadas por los clientes que no están ubicados en las mismas ciudades que sus vendedores."
   ]
  },
  {
   "cell_type": "code",
   "execution_count": 61,
   "metadata": {},
   "outputs": [
    {
     "name": "stdout",
     "output_type": "stream",
     "text": [
      "   order_id  order_date purch_amt   customer_name salesman_name customer_city  \\\n",
      "0     70001  2016-10-05    150.50     Graham Zusi    Nail Knite    California   \n",
      "1     70002  2016-10-05     65.26    Nick Rimando    James Hooq      New York   \n",
      "2     70004  2016-08-17    110.50   Geoff Cameron    Nail Knite        Berlin   \n",
      "3     70007  2016-09-10    948.50     Graham Zusi    Nail Knite    California   \n",
      "4     70005  2016-07-27   2400.60      Brad Davis    Lauson Hen      San Jose   \n",
      "5     70008  2016-09-10   5760.00  Fabian Johnson       Mc Lyon         Paris   \n",
      "6     70010  2016-10-10   1983.43  Fabian Johnson       Mc Lyon         Paris   \n",
      "7     70003  2016-10-10   2480.40   Geoff Cameron    Nail Knite        Berlin   \n",
      "8     70012  2016-06-27    250.45    Julian Green    Nail Knite        London   \n",
      "9     70011  2016-08-17     75.29   Jozy Altidore     Paul Adam        Moncow   \n",
      "\n",
      "  salesman_city  \n",
      "0         Paris  \n",
      "1      New York  \n",
      "2         Paris  \n",
      "3         Paris  \n",
      "4          None  \n",
      "5         Paris  \n",
      "6         Paris  \n",
      "7         Paris  \n",
      "8         Paris  \n",
      "9          Rome  \n"
     ]
    }
   ],
   "source": [
    "# Primero vamos a hacer un join de las tablas para ver todos los datos y poder comprobar que la consulta que hagamos luego es correcta\n",
    "query = '''\n",
    "SELECT order_item.order_id, order_item.order_date, order_item.purch_amt, customer.name AS customer_name, salesman.name AS salesman_name, customer.city AS customer_city, salesman.city AS salesman_city\n",
    "FROM order_item JOIN customer ON order_item.customer_id = customer.customer_id\n",
    "JOIN salesman ON customer.salesman_id = salesman.salesman_id\n",
    "'''\n",
    "print(execute_query(query))"
   ]
  },
  {
   "cell_type": "code",
   "execution_count": 62,
   "metadata": {},
   "outputs": [
    {
     "name": "stdout",
     "output_type": "stream",
     "text": [
      "   order_id  order_date purch_amt  customer_name salesman_name customer_city  \\\n",
      "0     70001  2016-10-05    150.50    Graham Zusi    Nail Knite    California   \n",
      "1     70004  2016-08-17    110.50  Geoff Cameron    Nail Knite        Berlin   \n",
      "2     70007  2016-09-10    948.50    Graham Zusi    Nail Knite    California   \n",
      "3     70003  2016-10-10   2480.40  Geoff Cameron    Nail Knite        Berlin   \n",
      "4     70012  2016-06-27    250.45   Julian Green    Nail Knite        London   \n",
      "5     70011  2016-08-17     75.29  Jozy Altidore     Paul Adam        Moncow   \n",
      "\n",
      "  salesman_city  \n",
      "0         Paris  \n",
      "1         Paris  \n",
      "2         Paris  \n",
      "3         Paris  \n",
      "4         Paris  \n",
      "5          Rome  \n"
     ]
    }
   ],
   "source": [
    "query = '''\n",
    "SELECT order_item.order_id, order_item.order_date, order_item.purch_amt, customer.name AS customer_name, salesman.name AS salesman_name, customer.city AS customer_city, salesman.city AS salesman_city\n",
    "FROM order_item JOIN customer ON order_item.customer_id = customer.customer_id\n",
    "JOIN salesman ON customer.salesman_id = salesman.salesman_id\n",
    "WHERE NOT salesman.city = customer.city;\n",
    "'''\n",
    "print(execute_query(query))"
   ]
  },
  {
   "cell_type": "markdown",
   "metadata": {},
   "source": [
    "**Ejercicio 10:** Muestra todas las órdenes cuyo valor es mayor que el valor promedio de las órdenes del 10 de octubre de 2016."
   ]
  },
  {
   "cell_type": "code",
   "execution_count": 63,
   "metadata": {},
   "outputs": [
    {
     "name": "stdout",
     "output_type": "stream",
     "text": [
      "   order_id  customer_id  salesman_id purch_amt  order_date\n",
      "0     70005         3007         5001   2400.60  2016-07-27\n",
      "1     70008         3004         5001   5760.00  2016-09-10\n",
      "2     70003         3009         5003   2480.40  2016-10-10\n"
     ]
    }
   ],
   "source": [
    "# Version 1: usando CTE (WITH)\n",
    "query = ''' \n",
    "WITH average_value AS (\n",
    "    SELECT AVG(purch_amt) AS average_value\n",
    "    FROM order_item\n",
    "    WHERE order_date = '2016-10-10'\n",
    ")\n",
    "SELECT *\n",
    "FROM order_item\n",
    "WHERE purch_amt > (\n",
    "    SELECT average_value\n",
    "    FROM average_value\n",
    ");\n",
    "'''\n",
    "print(execute_query(query))"
   ]
  },
  {
   "cell_type": "code",
   "execution_count": 64,
   "metadata": {},
   "outputs": [
    {
     "name": "stdout",
     "output_type": "stream",
     "text": [
      "   order_id  customer_id  salesman_id purch_amt  order_date\n",
      "0     70005         3007         5001   2400.60  2016-07-27\n",
      "1     70008         3004         5001   5760.00  2016-09-10\n",
      "2     70003         3009         5003   2480.40  2016-10-10\n"
     ]
    }
   ],
   "source": [
    "# Version 2: usando subconsulta\n",
    "query = '''\n",
    "SELECT *\n",
    "FROM order_item\n",
    "WHERE purch_amt > (\n",
    "    SELECT AVG(purch_amt)\n",
    "    FROM order_item\n",
    "    WHERE order_date = '2016-10-10'\n",
    ");\n",
    "'''\n",
    "print(execute_query(query))"
   ]
  },
  {
   "cell_type": "markdown",
   "metadata": {},
   "source": [
    "**Ejercicio 11:** Encuentra el nombre y los IDs de todos los vendedores que tienen más de un cliente."
   ]
  },
  {
   "cell_type": "code",
   "execution_count": 69,
   "metadata": {},
   "outputs": [
    {
     "name": "stdout",
     "output_type": "stream",
     "text": [
      "   salesman_id  num_customers\n",
      "0       5001.0              1\n",
      "1       5002.0              3\n",
      "2       5003.0              1\n",
      "3       5005.0              0\n",
      "4       5006.0              1\n",
      "5       5007.0              1\n",
      "6          NaN              1\n"
     ]
    }
   ],
   "source": [
    "# Primero veamos cuantos clientes tiene cada vendedor\n",
    "query = '''\n",
    "SELECT salesman.salesman_id, COUNT(DISTINCT customer.customer_id) AS num_customers\n",
    "FROM customer FULL OUTER JOIN salesman ON customer.salesman_id = salesman.salesman_id\n",
    "GROUP BY salesman.salesman_id;\n",
    "'''\n",
    "print(execute_query(query))"
   ]
  },
  {
   "cell_type": "code",
   "execution_count": 74,
   "metadata": {},
   "outputs": [
    {
     "name": "stdout",
     "output_type": "stream",
     "text": [
      "   salesman_id  num_customers\n",
      "0         5002              3\n"
     ]
    }
   ],
   "source": [
    "# Vamos a realizar la consulta\n",
    "query = '''\n",
    "SELECT salesman.salesman_id, COUNT(DISTINCT customer.customer_id) AS num_customers\n",
    "FROM salesman\n",
    "LEFT JOIN customer ON customer.salesman_id = salesman.salesman_id\n",
    "GROUP BY salesman.salesman_id\n",
    "HAVING COUNT(DISTINCT customer.customer_id) > 1;\n",
    "'''\n",
    "print(execute_query(query))"
   ]
  },
  {
   "cell_type": "code",
   "execution_count": 77,
   "metadata": {},
   "outputs": [
    {
     "name": "stdout",
     "output_type": "stream",
     "text": [
      "   salesman_id        name   city commission  num_customers\n",
      "0         5002  Nail Knite  Paris       0.13              3\n"
     ]
    }
   ],
   "source": [
    "# SI queremos mostrar información específica del vendedor\n",
    "# Opcion 1\n",
    "query = '''\n",
    "SELECT salesman.*, COUNT(DISTINCT customer.customer_id) AS num_customers\n",
    "FROM salesman LEFT JOIN customer ON customer.salesman_id = salesman.salesman_id\n",
    "GROUP BY salesman.salesman_id\n",
    "HAVING COUNT(DISTINCT customer.customer_id) > 1;\n",
    "'''\n",
    "print(execute_query(query))"
   ]
  },
  {
   "cell_type": "code",
   "execution_count": 76,
   "metadata": {},
   "outputs": [
    {
     "name": "stdout",
     "output_type": "stream",
     "text": [
      "   salesman_id        name   city commission  num_customers\n",
      "0         5002  Nail Knite  Paris       0.13              3\n"
     ]
    }
   ],
   "source": [
    "# Opcion 2\n",
    "query = '''\n",
    "WITH customers_per_salesman AS (\n",
    "    SELECT salesman_id, COUNT(DISTINCT customer_id) AS num_customers\n",
    "    FROM customer\n",
    "    GROUP BY salesman_id\n",
    ")\n",
    "SELECT \n",
    "    salesman.*,\n",
    "    customers_per_salesman.num_customers\n",
    "FROM salesman LEFT JOIN customers_per_salesman ON salesman.salesman_id = customers_per_salesman.salesman_id\n",
    "WHERE customers_per_salesman.num_customers > 1;\n",
    "'''\n",
    "print(execute_query(query))"
   ]
  },
  {
   "cell_type": "markdown",
   "metadata": {},
   "source": [
    "*Observación: Recuerda los tipos de JOINS* \n",
    "\n",
    "![Tipos de JOINS](../images/joins.png)"
   ]
  },
  {
   "cell_type": "markdown",
   "metadata": {},
   "source": [
    "**Ejercicio 12:** Muestra todas las órdenes que tuvieron montos mayores que alguna de las órdenes de agosto de 2016."
   ]
  },
  {
   "cell_type": "code",
   "execution_count": 84,
   "metadata": {},
   "outputs": [
    {
     "name": "stdout",
     "output_type": "stream",
     "text": [
      "    order_id  customer_id  salesman_id purch_amt  order_date\n",
      "0      70012         3008       5002.0    250.45  2016-06-27\n",
      "1      70005         3007       5001.0   2400.60  2016-07-27\n",
      "2      70011         3003       5007.0     75.29  2016-08-17\n",
      "3      70004         3009          NaN    110.50  2016-08-17\n",
      "4      70009         3001          NaN    270.65  2016-09-10\n",
      "5      70008         3004       5001.0   5760.00  2016-09-10\n",
      "6      70007         3005       5002.0    948.50  2016-09-10\n",
      "7      70001         3005       5002.0    150.50  2016-10-05\n",
      "8      70002         3002       5001.0     65.26  2016-10-05\n",
      "9      70010         3004       5006.0   1983.43  2016-10-10\n",
      "10     70003         3009       5003.0   2480.40  2016-10-10\n"
     ]
    }
   ],
   "source": [
    "# Antes de realizar la consulta revisamos la tabla de pedidos, ordenando por fecha\n",
    "query = '''\n",
    "SELECT * FROM order_item\n",
    "ORDER BY order_date;\n",
    "'''\n",
    "print(execute_query(query))"
   ]
  },
  {
   "cell_type": "code",
   "execution_count": 85,
   "metadata": {},
   "outputs": [
    {
     "name": "stdout",
     "output_type": "stream",
     "text": [
      "   order_id  customer_id  salesman_id purch_amt  order_date\n",
      "0     70001         3005       5002.0    150.50  2016-10-05\n",
      "1     70009         3001          NaN    270.65  2016-09-10\n",
      "2     70004         3009          NaN    110.50  2016-08-17\n",
      "3     70007         3005       5002.0    948.50  2016-09-10\n",
      "4     70005         3007       5001.0   2400.60  2016-07-27\n",
      "5     70008         3004       5001.0   5760.00  2016-09-10\n",
      "6     70010         3004       5006.0   1983.43  2016-10-10\n",
      "7     70003         3009       5003.0   2480.40  2016-10-10\n",
      "8     70012         3008       5002.0    250.45  2016-06-27\n"
     ]
    }
   ],
   "source": [
    "query = ''' \n",
    "WITH purch_amt_date AS (\n",
    "    SELECT purch_amt\n",
    "    FROM order_item\n",
    "    WHERE EXTRACT(YEAR FROM order_date) = 2016 AND EXTRACT(MONTH FROM order_date) = 08\n",
    ")\n",
    "SELECT order_item.*\n",
    "FROM order_item\n",
    "WHERE order_item.purch_amt > ANY (\n",
    "    SELECT purch_amt FROM purch_amt_date\n",
    ");\n",
    "'''\n",
    "print(execute_query(query))"
   ]
  }
 ],
 "metadata": {
  "kernelspec": {
   "display_name": "pyenv-sql",
   "language": "python",
   "name": "python3"
  },
  "language_info": {
   "codemirror_mode": {
    "name": "ipython",
    "version": 3
   },
   "file_extension": ".py",
   "mimetype": "text/x-python",
   "name": "python",
   "nbconvert_exporter": "python",
   "pygments_lexer": "ipython3",
   "version": "3.10.16"
  }
 },
 "nbformat": 4,
 "nbformat_minor": 2
}
